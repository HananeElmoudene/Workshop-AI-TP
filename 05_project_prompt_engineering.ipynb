{
 "cells": [
  {
   "cell_type": "markdown",
   "id": "f193828c-cca1-422f-a0a0-f27896ca3bd1",
   "metadata": {},
   "source": [
    "# Project : Prompt Engineering\n",
    "\n",
    "\n",
    "The quality of the instructions you give to an LLM can have a large effect on the quality of its outputs, especially for complex tasks. This project related to prompt design will help you learn how to craft prompts that produce accurate and consistent results.\n",
    "\n",
    "The project will be based on : \n",
    "- https://docs.anthropic.com/claude/docs/introduction-to-prompt-design\n",
    "\n",
    "- https://docs.google.com/spreadsheets/d/19jzLgRruG9kjUQNKtCg1ZjdD6l6weA6qRXG5zLIAhC8/edit#gid=150872633\n",
    "\n",
    "However, we will use Cohere and not Claude. It means, that you need to retain the principles of prompt engineering  but not necessarily exactly the same syntax described in the documents\n",
    "\n",
    "Moreover, you can check :\n",
    "- https://python.langchain.com/docs/modules/model_io/prompts/quick_start\n",
    "- https://docs.google.com/presentation/d/1zxkSI7lLUBrZycA-_znwqu8DDyVhHLkQGScvzaZrUns/edit?pli=1#slide=id.g2accb454d71_79_175 "
   ]
  },
  {
   "cell_type": "markdown",
   "id": "2c99f7ec-64c8-415c-a8e9-33c8042bb26d",
   "metadata": {},
   "source": [
    "### Complete pre-requisite"
   ]
  },
  {
   "cell_type": "markdown",
   "id": "7ff372e2-dbf4-476c-bee7-09d551d43883",
   "metadata": {},
   "source": [
    "#### Packages"
   ]
  },
  {
   "cell_type": "code",
   "execution_count": 4,
   "id": "60530a1d",
   "metadata": {},
   "outputs": [
    {
     "data": {
      "text/plain": [
       "False"
      ]
     },
     "execution_count": 4,
     "metadata": {},
     "output_type": "execute_result"
    }
   ],
   "source": [
    "import os\n",
    "from dotenv import load_dotenv, find_dotenv\n",
    "\n",
    "load_dotenv(find_dotenv(), override=True)\n",
    "\n",
    "# You can add other package here if needed\n",
    "    "
   ]
  },
  {
   "cell_type": "markdown",
   "id": "6efe4eba-f301-4f50-9260-a7ddb778afac",
   "metadata": {},
   "source": [
    "#### Initialize LLM "
   ]
  },
  {
   "cell_type": "code",
   "execution_count": 5,
   "id": "f36fd57c-ec76-49e6-95ae-368e836725ef",
   "metadata": {},
   "outputs": [
    {
     "name": "stdout",
     "output_type": "stream",
     "text": [
      "\u001b[1mCohere\u001b[0m\n",
      "Params: {'model': None, 'max_tokens': 256, 'temperature': 0.75, 'k': 0, 'p': 1, 'frequency_penalty': 0.0, 'presence_penalty': 0.0, 'truncate': None}\n"
     ]
    }
   ],
   "source": [
    "from langchain.llms import Cohere\n",
    "COHERE_API_KEY='Cmey03cNZfTIxEf6anwTqB5THazodJSIgEKAE9yH'\n",
    "\n",
    "llm = Cohere(temperature=0.75, cohere_api_key=COHERE_API_KEY)\n",
    "\n",
    "print(llm)\n"
   ]
  },
  {
   "cell_type": "markdown",
   "id": "e771f89a-0a87-4b68-9cd4-6c8e481a89ea",
   "metadata": {},
   "source": [
    "## Prompt Design"
   ]
  },
  {
   "cell_type": "markdown",
   "id": "1370c0b7",
   "metadata": {},
   "source": [
    "### Being Clear and Direct\n",
    "\n",
    "From : https://docs.google.com/spreadsheets/d/19jzLgRruG9kjUQNKtCg1ZjdD6l6weA6qRXG5zLIAhC8/edit#gid=1733615301\n",
    "\n",
    "\n",
    "**LLM responds best to clear and direct instructions.** \n",
    "\n",
    "Think of llm like any other human that is new to the job. Claude has no context on what to do aside from what you literally tell it. Just as when you instruct a human for the first time on a task, the more you explain exactly what you want in a straightforward manner to LLM, the better and more accurate LLM's response will be.\n",
    "\n",
    "**The Golden Rule of Clear Prompting** : show your prompt to a friend and ask them if they could follow the instructions themselves and produce the exact result you want. If they're confused, any LLM will be confused as well."
   ]
  },
  {
   "cell_type": "markdown",
   "id": "14c797b8-9db8-4f1c-8d3d-bf856565b68b",
   "metadata": {},
   "source": [
    "#### Exercises"
   ]
  },
  {
   "cell_type": "code",
   "execution_count": 6,
   "id": "77638288-af34-4103-9f09-7ca0c7491dd3",
   "metadata": {},
   "outputs": [
    {
     "name": "stdout",
     "output_type": "stream",
     "text": [
      " Robótica, \n",
      " como teclemos, \n",
      " automáticamente.\n",
      "\n",
      "Which translates to:\n",
      " Robotics, \n",
      " Like we write, \n",
      " Automatically. \n"
     ]
    }
   ],
   "source": [
    "from langchain.llms import Cohere\n",
    "import os\n",
    "from langchain import PromptTemplate\n",
    "basic_prompt = \"Write a haiku about robots.\"\n",
    "\n",
    "#improved_prompt = \"Escribe un haiku sobre robots en español.\"\n",
    "improved_prompt = PromptTemplate(\n",
    "    input_variables = ['language'],\n",
    "    template=basic_prompt + \"in {language}\"\n",
    ").format(language='Spanish')\n",
    "# Invocation du modèle avec le prompt amélioré\n",
    "response = llm.invoke(improved_prompt)\n",
    "print(response)\n"
   ]
  },
  {
   "cell_type": "code",
   "execution_count": 6,
   "id": "902679cb-f1dd-4daf-a584-3066742c7ec0",
   "metadata": {},
   "outputs": [
    {
     "data": {
      "text/plain": [
       "' Michael Jordan '"
      ]
     },
     "execution_count": 6,
     "metadata": {},
     "output_type": "execute_result"
    }
   ],
   "source": [
    "\n",
    "# Modify the prompt so that the llm doesn't equivocate at all and responds with ONLY the name of one specific player, with no other words or punctuation. \n",
    "basic_prompt = \"Who is the best basketball player of all time? Please choose one specific player.\"\n",
    "# Improved prompt to ensure LLM responds with only the name of one specific player\n",
    "improved_prompt = \"Please respond with the name of one specific basketball player who you consider the best of all time. Do not include any other words, explanations, or punctuation. Just the name.\"\n",
    "llm.invoke(improved_prompt)"
   ]
  },
  {
   "cell_type": "code",
   "execution_count": 8,
   "id": "aec2110f-677f-4f48-97da-4443515305c6",
   "metadata": {},
   "outputs": [
    {
     "data": {
      "text/plain": [
       "' Michael Jordan \\n\\nI am happy to provide a more detailed response, list multiple players, or explain my reasoning upon request. '"
      ]
     },
     "execution_count": 8,
     "metadata": {},
     "output_type": "execute_result"
    }
   ],
   "source": [
    "\n",
    "# Modify the prompt so that the llm doesn't equivocate at all and responds with ONLY the name of one specific player, with no other words or punctuation. \n",
    "basic_prompt = \"Who is the best basketball player of all time? Please choose one specific player.\"\n",
    "# Improved prompt to ensure LLM responds with only the name of one specific player\n",
    "improved_prompt = \"Based on achievements, impact, and skill, name only one basketball player who stands out as the greatest of all time. Respond with just the name, without any explanation, list, or additional commentary.\"\n",
    "llm.invoke(improved_prompt)"
   ]
  },
  {
   "cell_type": "markdown",
   "id": "3a537a81-5550-4798-af4d-ac122ca26e36",
   "metadata": {},
   "source": [
    "### Assigning Roles (Role Prompting)\n",
    "\n",
    " From : https://docs.google.com/spreadsheets/d/19jzLgRruG9kjUQNKtCg1ZjdD6l6weA6qRXG5zLIAhC8/edit#gid=2055375080\n",
    " \t\n",
    "Continuing on the theme of LLM having no context aside from what you say, it's sometimes important to prompt llm to inhabit a specific role (including all necessary context). This is also known as role prompting. The more detail to the role context, the better.\n",
    "\n",
    "Priming an llm with a role can improve the performance in a variety of fields, from writing to coding to summarizing. It's like how humans can sometimes be helped when told to \"think like a ______\"."
   ]
  },
  {
   "cell_type": "markdown",
   "id": "a1808ae3-6388-460f-b431-55ed46833d3d",
   "metadata": {},
   "source": [
    "#### Exercises"
   ]
  },
  {
   "cell_type": "code",
   "execution_count": 9,
   "id": "df8f39d6-8638-424e-813d-bde910f3f910",
   "metadata": {},
   "outputs": [
    {
     "data": {
      "text/plain": [
       "\" A republic is a distinctive form of governance in which citizens' elected representatives wield political power on their behalf. Unlike a democracy, where the majority rules, or an aristocracy, where a minority rules based on hereditary privilege, a republic fosters governance by representatives who emerge from a democratic process. This foundational distinction between democracy and republic lies at the heart of the exploration into this concept.\\n\\nThis representative structure is perhaps the most notable hallmark of a republic. It distinguishes itself from absolute monarchies and dictatorships, where power is concentrated in the hands of a single individual or family, largely unchecked by democratic processes or elected representatives.\\n\\nAnother significant aspect of a republic is its unwavering commitment to civic virtue and citizenship. In a prosperous republic, citizens are encouraged to be informed, participate actively in the political process, and hold their representatives accountable. This ethos stands in contrast to systems that may discourage or restrict voter participation or dismiss the necessity of an informed electorate. \\n\\nOverall, the essence of a republic lies in the harmonious interplay of democratic elections, political representation, and civic responsibility. This distinguishes it from regimes that thrive on absolute power, majoritarian dominance, or passive citizenship. \\n\\nHowever, it's essential to note that the exclusivity of a republic is sometimes compromised upon in practice.\""
      ]
     },
     "execution_count": 9,
     "metadata": {},
     "output_type": "execute_result"
    }
   ],
   "source": [
    "\n",
    "# generate a better output by giving a role\n",
    "basic_prompt = \"Explains what is a republic.\"\n",
    "improved_prompt = \"Imagine you are a renowned professor of political science with decades of experience teaching the principles of government systems. Using your extensive knowledge, please explain in detail what a republic is, including its key characteristics and how it differs from other forms of government.\"\n",
    "llm.invoke(improved_prompt)"
   ]
  },
  {
   "cell_type": "markdown",
   "id": "e2877c34-de6b-4d7a-9e69-89092422c9e3",
   "metadata": {},
   "source": [
    "### Separating Data from Instructions\n",
    "\n",
    "Not able to provide an exercice : https://docs.google.com/spreadsheets/d/19jzLgRruG9kjUQNKtCg1ZjdD6l6weA6qRXG5zLIAhC8/edit#gid=1519813817"
   ]
  },
  {
   "cell_type": "markdown",
   "id": "52b6171a-0805-4cdd-90bf-85e91b09e9a6",
   "metadata": {},
   "source": [
    "### Formatting Output\n",
    "\n",
    "From: https://docs.google.com/spreadsheets/d/19jzLgRruG9kjUQNKtCg1ZjdD6l6weA6qRXG5zLIAhC8/edit#gid=257656347 \n",
    "\n",
    "An LLM can format its output in a wide variety of ways. You just need to ask for it to do so!"
   ]
  },
  {
   "cell_type": "markdown",
   "id": "5fc21042-4c73-4ce1-b797-d8fff0902b71",
   "metadata": {},
   "source": [
    "#### Exercises"
   ]
  },
  {
   "cell_type": "code",
   "execution_count": 10,
   "id": "85e3342e-2787-4f79-9103-9399b2ede8af",
   "metadata": {},
   "outputs": [
    {
     "data": {
      "text/plain": [
       "\" Absenting Michael Jordan from the discussion, there are several notable basketball players who are considered among the best in history. Each player has their own unique skill, impact, and achievements which has solidified their place in the NBA hall of fame. \\n\\nLeBron James: Often considered the greatest active player, LeBron has won 4 NBA championships, 4 NBA Most Valuable Player Awards, three NBA Finals MVP Awards, and three NBA All-Star Game MVP Awards. He is also NBA's all-time leader in points, rebounds, and assists. His skill, impressive physical traits, and dominance on the court has many considering him the best player of all time. \\n\\nKobe Bryant: A strong contender for the title, Kobe Bryant spent his entire, 20-year career with the Los Angeles Lakers. He won five NBA championships with the Lakers and was an 18-time NBA All-Star. His achievements included NBA MVP, two NBA Finals MVP Awards, and 12 NBA All-NBA First Team selections. Tragically, Kobe, his daughter Gianna, and 7 others died in a helicopter crash on January 26, 2020. \\n\\nWilt Chamberlain: A dominant player with incredible physical traits, Wilt Chamberlain holds numerous records and was among the most prolific scorers and rebounders in NBA history\""
      ]
     },
     "execution_count": 10,
     "metadata": {},
     "output_type": "execute_result"
    }
   ],
   "source": [
    "\n",
    "# Forced to make a choice, Cohere designates Michael Jordan as the best basketball player of all time. Can we get Cohere to pick someone else?\n",
    "basic_prompt = \"Who is the best basketball player of all time?\"\n",
    "improved_prompt = \"Considering the achievements, impact on the game, and overall career, who would be considered the best basketball player of all time if we exclude Michael Jordan from the consideration?\"\n",
    "llm.invoke(improved_prompt)"
   ]
  },
  {
   "cell_type": "code",
   "execution_count": 12,
   "id": "1b0f4824-34ff-4225-a745-96eccaa12bca",
   "metadata": {},
   "outputs": [
    {
     "data": {
      "text/plain": [
       "\" I have created a table that highlights some of the key events in the history of France. \\n\\nNotability, the criteria that created the parameters for this list, encompasses a combination of factors such as impact on French society, significance internationally, and cultural resonance. \\n\\n| Year\\t| Event\\t|\\n|---|---|\\n| 282 BC  |  Gallic tribes unite as the Kingdom of France, establishing the capital in Paris.\\t|\\n| 52 BC  |  Julius Caesar conducts his military conquest of Gaul, ending with the defeat of the Gallic coalition and the adoption of Latin as the administrative language.\\t|\\n| AD 800  |  The Crowning of Charlemagne as Holy Roman Emperor establishes Paris as a cultural and political center, signaling the ascendance of the French kingdom.  |\\n| 987  |  Hugh Capet becomes the first King of France, establishing the Capetian dynasty and the direct line of succession to the modern-day French monarchy. |\\n| 1429  |  The siege of Orleans, a pivotal moment in the Hundred Years War, ends with the victory of the French army and the coronation of Henry VI of France.  |\\n| 1572  |  The St. Bartholomew's Day Massacre triggers\""
      ]
     },
     "execution_count": 12,
     "metadata": {},
     "output_type": "execute_result"
    }
   ],
   "source": [
    "\n",
    "# Instead of receiving a basic output, you want to ouptut in a table format\n",
    "basic_prompt = \"Gives the main events of France.\"\n",
    "improved_prompt = \"Please list the main events of France in a table format.\"\n",
    "llm.invoke(improved_prompt)"
   ]
  },
  {
   "cell_type": "markdown",
   "id": "c0f8eb26-0277-4622-a858-cd3c292d82f7",
   "metadata": {},
   "source": [
    "### Thinking Step by Step \n",
    "\n",
    "From: https://docs.google.com/spreadsheets/d/19jzLgRruG9kjUQNKtCg1ZjdD6l6weA6qRXG5zLIAhC8/edit#gid=1213680236\n",
    "\n",
    " \t\n",
    "If someone woke you up and immediately started asking you several complicated questions that you had to respond to right away, how would you do? Probably not as good as if you were given time to think through your answer first. \n",
    "\n",
    "Guess what? An LLM is the same way.\n",
    "\n",
    "Giving Cohere time to think step by step sometimes makes Cohere more accurate, particularly for complex tasks."
   ]
  },
  {
   "cell_type": "markdown",
   "id": "c3938c76-4e49-44a6-b68d-24a387c833f2",
   "metadata": {},
   "source": [
    "#### Exercises"
   ]
  },
  {
   "cell_type": "code",
   "execution_count": 13,
   "id": "3f5eec2b-5016-426f-9f5a-1d377cddb284",
   "metadata": {},
   "outputs": [
    {
     "name": "stdout",
     "output_type": "stream",
     "text": [
      "Step 1 Response:  The formula for calculating compound interest is:\n",
      "A = P * (1 + r/n)^(nt)\n",
      "\n",
      "Where:\n",
      "A is the final amount of money obtained after interest, including the principal amount (P). \n",
      "\n",
      "The interest rate (r) is expressed as a decimal.\n",
      "\n",
      "The number of compounding periods per year (n) depends on how often the interest is compounded.\n",
      "\n",
      "The number of years (t) represents the period for which the interest is calculated.\n",
      "\n",
      "This formula considers the effect of compounding, which means that interest is earned on top of both the initial principal amount and any previously earned interest. \n",
      "\n",
      "Depending on the frequency of compounding, the equation can be used to calculate compound interest over discrete periods, such as daily, monthly, quarterly, or annually. \n",
      "\n",
      "The effect of compounding causes the accumulated interest to grow faster over time, resulting in an amount (A) that is greater than the calculated interest rate multiplied by the initial principal amount (P). \n",
      "\n",
      "It's important to use the correct values for each variable to ensure accurate calculations of compound interest. \n",
      "If the compounding period is annual, quarterly, monthly, or daily, the number of compounding periods (n) should be replaced by the calendar year,\n",
      "Step 2 Response:  The formula for compound interest is given as A = P(1 + r/n)^(nt), where:\n",
      "A = Amount of money after time t (including both principal and interest)\n",
      "P = Principal amount (initial deposit or loan amount)\n",
      "r = Annual interest rate (in decimal)\n",
      "n = Number of times interest is compounded per year\n",
      "t = Time in years\n",
      "\n",
      "Given:\n",
      "P = $1000\n",
      "r = 5% = 0.05\n",
      "n = 1 (annually compounded)\n",
      "t = 10 years\n",
      "\n",
      "Plugging these values into the formula, we get:\n",
      "A = 1000 * (1 + 0.05/1)^(1 * 10)\n",
      "\n",
      "Now, simplify each part of the equation:\n",
      "A = 1000 * (1 + 0.05)^10\n",
      "A = 1000 * 1.05^10\n",
      "A ≈ 1000 * 1.6605^10\n",
      "\n",
      "Now, calculate the final value:\n",
      "A ≈ 1661.50\n",
      "\n",
      "So, after 10 years of annual compounding at a 5% interest rate, your initial $1000 investment would grow to approximately $1661.50, considering both the principal and the interest earned. \n"
     ]
    }
   ],
   "source": [
    "# Étape 1: oon demande la formule des intérêts composés\n",
    "prompt_step_1 = \"What is the formula for calculating compound interest?\"\n",
    "response_step_1 = llm.invoke(prompt_step_1)\n",
    "print(f\"Step 1 Response: {response_step_1}\")\n",
    "\n",
    "# Étape 2: Utilisation du formula pour calculer les intérêts composés sur un montant donné\n",
    "prompt_step_2 = \"\"\"\n",
    "Using the formula for compound interest A = P(1 + r/n)^(nt), calculate the amount of interest that would be accrued on a principal of $1000 at an annual interest rate of 5% over 10 years. Assume the interest is compounded annually.\n",
    "\"\"\"\n",
    "response_step_2 = llm.invoke(prompt_step_2)\n",
    "print(f\"Step 2 Response: {response_step_2}\")"
   ]
  },
  {
   "cell_type": "markdown",
   "id": "0508c821-2a96-4fb0-a7eb-e2d39014851b",
   "metadata": {},
   "source": [
    "### Using Examples\n",
    "\n",
    "Check this sheet to understand the difference with \"Formatting output\": https://docs.google.com/spreadsheets/d/19jzLgRruG9kjUQNKtCg1ZjdD6l6weA6qRXG5zLIAhC8/edit#gid=1640903723\n"
   ]
  },
  {
   "cell_type": "markdown",
   "id": "68a6fdc2-e790-43e6-ac2f-30ef6a5ad22d",
   "metadata": {},
   "source": [
    "#### Exercises"
   ]
  },
  {
   "cell_type": "code",
   "execution_count": 14,
   "id": "0649f48b-f151-496c-9f3f-b456c9dca192",
   "metadata": {},
   "outputs": [
    {
     "name": "stdout",
     "output_type": "stream",
     "text": [
      "Generated Title:  Here is a title for an article highlighting the advantages of meditation: \n",
      "\n",
      "'Meditation Unmasked: Revealing the Science Behind its Lifelong Benefits'\n",
      "\n",
      "This title establishes the topic and hints at the content within the article, creating interest and intrigue while also promising factual, informative content. \n",
      "\n",
      "Let me know if you'd like me to generate another title for this article, or adapt the tone or style differently for another idea! \n"
     ]
    }
   ],
   "source": [
    "\n",
    "# Find something where you need to  use the \"Using Examples\"\n",
    "# The goal is to understanding how it is powerful compared to \"Formatting output\"\n",
    "# When you exactly know what you want\n",
    "improved_prompt = \"\"\"\n",
    "Here are some examples of article titles that are both engaging and informative:\n",
    "1. '10 Proven Benefits of Meditation: How Silent Reflection Can Transform Your Life'\n",
    "2. 'Unlocking Inner Peace: 5 Ways Meditation Enhances Your Daily Productivity'\n",
    "3. 'From Stress to Serenity: The Science Behind Meditation and Well-being'\n",
    "\n",
    "Based on these examples, generate a title for an article about the benefits of meditation.\n",
    "\"\"\"\n",
    "\n",
    "# Invoquer le modèle avec le prompt amélioré\n",
    "response = llm.invoke(improved_prompt)\n",
    "print(f\"Generated Title: {response}\")"
   ]
  },
  {
   "cell_type": "code",
   "execution_count": null,
   "id": "1a4652da-77b5-48db-b3b1-85ce26ee8662",
   "metadata": {},
   "outputs": [],
   "source": []
  }
 ],
 "metadata": {
  "kernelspec": {
   "display_name": "Python 3 (ipykernel)",
   "language": "python",
   "name": "python3"
  },
  "language_info": {
   "codemirror_mode": {
    "name": "ipython",
    "version": 3
   },
   "file_extension": ".py",
   "mimetype": "text/x-python",
   "name": "python",
   "nbconvert_exporter": "python",
   "pygments_lexer": "ipython3",
   "version": "3.10.3"
  }
 },
 "nbformat": 4,
 "nbformat_minor": 5
}

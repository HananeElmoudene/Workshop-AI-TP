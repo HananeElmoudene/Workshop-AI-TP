{
 "cells": [
  {
   "cell_type": "markdown",
   "id": "f193828c-cca1-422f-a0a0-f27896ca3bd1",
   "metadata": {},
   "source": [
    "# Project : Custom Cohere with memory\n",
    "\n",
    "Have you may have seen, there is no memory conversation with our previous LLM. \n",
    "\n",
    "Chatbots are one of the central LLM use-cases. The core features of chatbots are that they can have long-running conversations and have access to information that users want to know about.\n",
    "\n",
    "Aside from basic prompting and LLMs, memory and retrieval are the core components of a chatbot. Memory allows a chatbot to remember past interactions, and retrieval provides a chatbot with up-to-date, domain-specific information.\n",
    "\n",
    "In this project we will focus on memory.\n",
    "\n",
    "You will find everything needed here : https://python.langchain.com/docs/modules/memory/ "
   ]
  },
  {
   "cell_type": "markdown",
   "id": "2c99f7ec-64c8-415c-a8e9-33c8042bb26d",
   "metadata": {},
   "source": [
    "### Complete pre-requisite"
   ]
  },
  {
   "cell_type": "markdown",
   "id": "7ff372e2-dbf4-476c-bee7-09d551d43883",
   "metadata": {},
   "source": [
    "#### Packages"
   ]
  },
  {
   "cell_type": "code",
   "execution_count": 34,
   "id": "60530a1d",
   "metadata": {},
   "outputs": [],
   "source": [
    "import os\n",
    "from dotenv import load_dotenv, find_dotenv\n",
    "load_dotenv(find_dotenv(), override=True)\n",
    "\n",
    "from langchain.schema import SystemMessage\n",
    "from langchain.memory import (ConversationBufferMemory, \n",
    "                              ConversationSummaryMemory,\n",
    "                              ConversationBufferWindowMemory,\n",
    "                              ConversationKGMemory)\n",
    "from langchain.prompts import ChatPromptTemplate, HumanMessagePromptTemplate, MessagesPlaceholder\n",
    "\n",
    "\n",
    "# You can add other package here if needed\n",
    "    "
   ]
  },
  {
   "cell_type": "markdown",
   "id": "6efe4eba-f301-4f50-9260-a7ddb778afac",
   "metadata": {},
   "source": [
    "#### Initialize LLM & ConversationChain\n",
    "\n",
    "A ConversationChain is a type of chain that is specifically designed to handle conversations or dialogues, as opposed to individual inputs."
   ]
  },
  {
   "cell_type": "code",
   "execution_count": 35,
   "id": "f36fd57c-ec76-49e6-95ae-368e836725ef",
   "metadata": {},
   "outputs": [
    {
     "name": "stdout",
     "output_type": "stream",
     "text": [
      "\u001b[1mCohere\u001b[0m\n",
      "Params: {'model': None, 'max_tokens': 512, 'temperature': 0.75, 'k': 0, 'p': 1, 'frequency_penalty': 0.0, 'presence_penalty': 0.0, 'truncate': None}\n"
     ]
    }
   ],
   "source": [
    "from langchain.llms import Cohere\n",
    "from langchain.chains import ConversationChain\n",
    "COHERE_API_KEY='Cmey03cNZfTIxEf6anwTqB5THazodJSIgEKAE9yH'\n",
    "\n",
    "# Initialisation de Cohere avec notre clé API\n",
    "llm = Cohere(\n",
    "            max_tokens=512, \n",
    "            cohere_api_key=COHERE_API_KEY)\n",
    "\n",
    "conversation = ConversationChain(llm=llm)\n",
    "print(llm)\n",
    "#print(conversation.prompt.template)\n",
    "\n"
   ]
  },
  {
   "cell_type": "markdown",
   "id": "e771f89a-0a87-4b68-9cd4-6c8e481a89ea",
   "metadata": {},
   "source": [
    "## Memory types\n",
    "\n",
    "In this section we will review several memory types and analyze the pros and cons of each one, so you can choose the best one for your use case.\n",
    "\n"
   ]
  },
  {
   "cell_type": "markdown",
   "id": "1370c0b7",
   "metadata": {},
   "source": [
    "### ConversationBufferMemory\n",
    "\n",
    "The conversation buffer memory keeps the previous pieces of conversation completely unmodified, in their raw form."
   ]
  },
  {
   "cell_type": "code",
   "execution_count": 36,
   "id": "c0a3e2d8",
   "metadata": {},
   "outputs": [],
   "source": [
    "from langchain.llms import Cohere\n",
    "from langchain.chains import ConversationChain\n",
    "from langchain.memory import ConversationBufferMemory\n",
    "\n",
    "conversation_buffer_memory = ConversationBufferMemory()\n",
    "\n",
    "# Initialisation d'une ConversationChain avec le modèle de langage et la mémoire\n",
    "conversation = ConversationChain(llm=llm, memory=conversation_buffer_memory)\n"
   ]
  },
  {
   "cell_type": "markdown",
   "id": "14c797b8-9db8-4f1c-8d3d-bf856565b68b",
   "metadata": {},
   "source": [
    "#### verification"
   ]
  },
  {
   "cell_type": "code",
   "execution_count": 37,
   "id": "77638288-af34-4103-9f09-7ca0c7491dd3",
   "metadata": {},
   "outputs": [
    {
     "name": "stdout",
     "output_type": "stream",
     "text": [
      "Human: What is the capital of France ?\n",
      "AI:  The capital of France is Paris. It is located in the north-central part of the country, on the River Seine, and is one of the most populous and well-known cities in the world.\n",
      "\n",
      "Paris is referred to as the City of Lights and the City of Love. It is home to some of the world's most iconic landmarks, including the Eiffel Tower, the Louvre Museum, the Arc de Triomphe, and Notre-Dame Cathedral. These monuments reflect Paris' rich history and cultural importance over the last millennia. \n",
      "\n",
      "Known for its artistic and intellectual heritage, Paris has been a major center for fashion, cuisine, and the arts for centuries. It's regarded as a leading global center for commerce, diplomacy, and education, hosting numerous prestigious universities and colleges, including the renowned Sorbonne.\n",
      "\n",
      "Paris also hosts significant political institutions. It has been the center of French governance since the Middle Ages, with the Palais du Luxembourg serving as the seat of the French Senate, and other administrative buildings housing various ministries. \n",
      "\n",
      "Would you like to know more about Paris, the capital of France? Feel free to ask, and I'll be glad to provide additional information! \n",
      "Human: What is the capital of Spain ?\n",
      "AI:  The capital of Spain is Madrid. It is the largest city in the country and has been Spain's capital since the 16th century.\n",
      "\n",
      "Madrid is located in the center of the Iberian Peninsula, on the Spanish central plateau, at an altitude of approximately 650 meters above sea level. It is a cosmopolitan city, known for its vibrant culture, rich history, and diverse attractions. \n",
      "\n",
      "One of the most notable landmarks in Madrid is the Plaza Mayor, which is a large square in the city center that hosts a lively marketplace and is surrounded by cafes and restaurants. Other important landmarks include the Prado Museum, one of the most famous art museums in Europe, showcasing an extensive collection of European art, particularly Spanish and European masterpieces from the 12th century to the early 20th century. \n",
      "\n",
      "Madrid is also home to the Royal Palace of Madrid, the official residence of the Spanish royal family. Though they don't reside there currently, it is used for state ceremonies and official events. The palace is an impressive building with a rich history that combines Baroque and Classical styles.\n",
      "\n",
      "Madrid is renowned for its nightlife, with lively neighborhoods like La Latina and Malasaña known for their buzzing atmosphere with numerous restaurants, tapas bars, and clubs. \n",
      "\n",
      "The city is a significant hub for commerce, finance, culture, and tourism, making it a vital center for both business and leisure in Spain. \n",
      "\n",
      "I hope this provides an insight into Madrid, the vibrant capital city of Spain. If you'd like to know more about Madrid or any other European capital cities, feel free to ask! \n",
      "Human: What is the capital of Angola ?\n",
      "AI:  Unfortunately, I don't know the answer to that question. I'm an AI language model, and my knowledge only covers up to January 2023. \n",
      "\n",
      "The capital of Angola was Luanda historically. However, due to the civil war in the 1990s, the government moved the capital to a calmer city, and the capital was moved to Huambo. Nevertheless, Luanda continues to be a significant political and economic hub and is still often considered the de facto capital. \n",
      "\n",
      "Since my knowledge cutoff isn't up to date, I cannot verify if Huambo remains the capital city of Angola or if the capital was returned to Luanda. \n",
      "\n",
      "I apologize for not being able to provide an accurate answer on this occasion. If you have any further questions on topics I am knowledgeable about, or if you'd like to know more about Angola, please ask! \n"
     ]
    }
   ],
   "source": [
    "conversation.invoke(\"What is the capital of France ?\")\n",
    "\n",
    "conversation.invoke(\"What is the capital of Spain ?\")\n",
    "\n",
    "conversation.invoke(\"What is the capital of Angola ?\")\n",
    "\n",
    "# We should be able to get the whole conversation inside the memory\n",
    "print(conversation.memory.buffer)"
   ]
  },
  {
   "cell_type": "markdown",
   "id": "6c59f2c5-c7d0-4ee1-b345-d73f28678e5e",
   "metadata": {},
   "source": [
    "#### From your observations - Gives the pros and cons of this memory \n",
    "\n",
    "##### Pros\n",
    "\n",
    "- Contexte de court terme : Permet de maintenir un contexte de conversation à court terme en stockant les échanges récents.\n",
    "- Rapidité : Peut améliorer la rapidité des réponses en réduisant la nécessité de retraiter des informations contextuelles à chaque interaction.\n",
    "\n",
    "##### Cons\n",
    "\n",
    "- Limitation de la mémoire : La taille du buffer est limitée, ce qui peut entraîner la perte d'informations contextuelles importantes pour des conversations très longues.\n",
    "-\n",
    "\n"
   ]
  },
  {
   "cell_type": "markdown",
   "id": "3a537a81-5550-4798-af4d-ac122ca26e36",
   "metadata": {},
   "source": [
    "### ConversationSummaryMemory\n",
    "\n",
    "The conversation summary memory creates a summary of the conversation over time. "
   ]
  },
  {
   "cell_type": "code",
   "execution_count": 40,
   "id": "fb64c989-580d-4880-acef-924e57184ac2",
   "metadata": {},
   "outputs": [],
   "source": [
    "from langchain.llms import Cohere\n",
    "from langchain.chains import ConversationChain\n",
    "from langchain.memory import ConversationSummaryMemory\n",
    "\n",
    "conversation_summary_memory = ConversationSummaryMemory(llm=llm)\n",
    "\n",
    "# Initialisation d'une ConversationChain avec le modèle de langage et la mémoire de résumé\n",
    "converstation_buffer_memory = ConversationChain(llm=llm, memory=conversation_summary_memory)\n",
    "\n",
    "    "
   ]
  },
  {
   "cell_type": "markdown",
   "id": "a1808ae3-6388-460f-b431-55ed46833d3d",
   "metadata": {},
   "source": [
    "#### Verification"
   ]
  },
  {
   "cell_type": "code",
   "execution_count": 42,
   "id": "df8f39d6-8638-424e-813d-bde910f3f910",
   "metadata": {},
   "outputs": [
    {
     "name": "stdout",
     "output_type": "stream",
     "text": [
      " The human asks the AI to provide a detailed historical chronology of Germany with dates and events. The AI provides a timeline of important events and dates spanning from 7000 BC to the present, covering various prehistoric cultures, the influence of the Roman Republic, the Germanic tribes, and medieval kingdoms. \n"
     ]
    }
   ],
   "source": [
    "converstation_buffer_memory.invoke(\"Gives me the historical chronology of France. I want as much dates and events as possibles.\")\n",
    "\n",
    "converstation_buffer_memory.invoke(\"Gives me the historical chronology of Spain. I want as much dates and events as possibles.\")\n",
    "\n",
    "converstation_buffer_memory.invoke(\"Gives me the historical chronology of Germany. I want as much dates and events as possibles.\")\n",
    "\n",
    "print(converstation_buffer_memory.memory.buffer)"
   ]
  },
  {
   "cell_type": "markdown",
   "id": "44b863bb-4d86-4e4f-9ebb-9178f0aa5017",
   "metadata": {},
   "source": [
    "#### From your observations - Gives the pros and cons of this memory \n",
    "\n",
    "##### Pros\n",
    "\n",
    "- utile pour les conversations longues où seul le contexte global est nécessaire\n",
    "- aider le modèle de langage à produire des réponses cohérentes sans avoir à gérer un grand volume de texte\n",
    "\n",
    "##### Cons\n",
    "\n",
    "- Risque de perte d'information : Des résumés imprécis peuvent omettre des détails importants, ce qui pourrait nuire à la pertinence des réponses.\n",
    "- Complexité de la génération de résumés : Générer des résumés précis et utiles est complexe et peut nécessiter des techniques avancées de NLP.\n",
    "\n"
   ]
  },
  {
   "cell_type": "markdown",
   "id": "e2877c34-de6b-4d7a-9e69-89092422c9e3",
   "metadata": {},
   "source": [
    "### ConversationSummaryBufferMemory\n",
    "\n",
    "The conversation summary buffer memory keeps a buffer of recent interactions in memory, but rather than just completely flushing old interactions, it compiles them into a summary and uses both."
   ]
  },
  {
   "cell_type": "code",
   "execution_count": 43,
   "id": "6c71c89e-7fcb-4034-aa81-5cd21a7dae0b",
   "metadata": {},
   "outputs": [],
   "source": [
    "\n",
    "# Initialize a ConversationChain with a memory in it\n",
    "\n",
    "# converstation_summary_buffer_memory = ConversationChain(....)\n",
    "\n",
    "from langchain.llms import Cohere\n",
    "from langchain.chains import ConversationChain\n",
    "from langchain.memory import ConversationSummaryBufferMemory\n",
    "\n",
    "conversation_summary_buffer_memory = ConversationSummaryBufferMemory(llm=llm)\n",
    "\n",
    "# Initialisation d'une ConversationChain avec le modèle de langage et la mémoire spécifique\n",
    "conversation = ConversationChain(llm=llm, memory=conversation_summary_buffer_memory)"
   ]
  },
  {
   "cell_type": "markdown",
   "id": "5fc21042-4c73-4ce1-b797-d8fff0902b71",
   "metadata": {},
   "source": [
    "#### Verification"
   ]
  },
  {
   "cell_type": "code",
   "execution_count": 44,
   "id": "85e3342e-2787-4f79-9103-9399b2ede8af",
   "metadata": {},
   "outputs": [
    {
     "name": "stdout",
     "output_type": "stream",
     "text": [
      "[HumanMessage(content='Gives me the historical chronology of France. I want as much dates and events as possibles.'), AIMessage(content=\" Certainly! Here's a comprehensive list of important dates and events in French history. \\n\\nFrench History: 481 AD to present times. \\n\\n1. The Kingdom of the Franks: 481 AD - 987 AD. Formation of the Kingdom of the Franks, with the merger of the Frankish and Merovingian tribes, establishing the first Christian kingdom in Europe under King Clovis I. Paris eventually becomes the capital. \\n\\n2. The Middle Ages: 481 AD - 14th century. French expansion and the Hundred Years' War (1337-1453) with England. War ended with the expulsion of English rule and the emergence of an absolute French monarchy, fostering a nascent French national identity and language. \\n\\n3. The Renaissance: 14th - 17th centuries. Becoming a major European power, with the French royal court as a cultural center fostering figures like Francois Rabelais, Montaigne, and Catherine de Medici. \\n\\n4. The Enlightenment: 18th century. A period of intellectual and cultural transformation, influenced by prominent French philosophers like Voltaire, Rousseau, and Montesquieu. Ideas of individual liberty, religious tolerance, and the separation of powers shaped the French Revolution. \\n\\n5. The French Revolution & Napoleon: 1789 - 1815. Began as a revolt against the absolute monarchy of King Louis XVI, characterized by revolutionary ideals and violence. Ended with the rise of Napoleon Bonaparte, who established the Napoleonic Era marked by military conquests and power consolidation. \\n\\n6. The Restoration: 1814 - 1830. After Napoleon's defeat and abdication, the Bourbon monarchy was restored with Louis XVIII. This period witnessed a reaction against the French Revolution and the Catholic Church's resurgence. \\n\\n7. The Second French Empire: 1852 - 1870. Napoleon III became president and then emperor through a coup d'etat. Initiated reforms and modernization, but was fraught with difficulties. \\n\\n8. The Third Republic: 1870 - 1940. Beginning with the collapse of the Second Empire during the Franco-Prussian War, this period witnessed the establishment of a democratic republic in France, ushering in multiple reforms and societal changes. \\n\\n9. The Vichy Regime & World War II: 1940 - 1944. France was occupied by Nazi Germany, resulting in the rise of the Vichy regime, characterized by authoritarian rule and collaboration with the Nazis. The French Resistance also emerged during this period. \\n\\n10. The Fourth Republic: 1944 - 1958. Post-war rebuilding and struggles for political\"), HumanMessage(content='Gives me the historical chronology of Spain. I want as much dates and events as possibles.'), AIMessage(content=\" Certainly! Here is an extensive list of important dates and events in Spanish history. \\n\\nSpanish History: 711 BC to present times. \\n\\n1. The Roman and Carthaginian Conquest: 711 BC to 201 BC. Spain (or Hispania as it was known then) was conquered by the Roman and Carthaginian empires, establishing provinces across the peninsula. This era ended with the collapse of the Carthaginian Empire after the Punic Wars. \\n\\n2. The Roman Empire: 201 BC - 409 AD. Spain became a part of the Roman Empire, contributing significantly to the empire's culture, economy, and politics. The Romans introduced Christianity, built an extensive network of roads, and developed the Hispanic culture. The decline of the Western Roman Empire in 409 AD resulted in the geographical division of Spain. \\n\\n3. The Visigoths & the Iberian Peninsula: 409 - 711 AD. After the fall of the Roman Empire, the Iberian Peninsula was conquered by the Visigoths, making Toledo the capital. The culture and society of the Visigoths imprinted onto the Iberian society during this period. \\n\\n4. The Umayyad Conquest and Islamic Rule: 711 - 1492. The Umayyad Caliphate conquered the Iberian Peninsula, introducing Islam to the region. This era is marked by the construction of monuments like the Great Mosque of Cordoba, advancements in mathematics, astronomy, and philosophy, and the establishment of Muslim rule across the peninsula. \\n\\n5. The Middle Ages and the Reconquista: 1492 - the 15th - 16th centuries. The Reconquista, the Christian reconquest of the peninsula, culminated in the end of Muslim rule in Spain with the fall of Granada in 1492. During this period, Spain became a unified kingdom and emerged as a major global power with a thriving economy and cultural production. \\n\\n6. The Spanish Golden Age: 15th - 17th centuries. This era witnessed Spain's dominance in the global economy and a flourishing in art, literature, and culture worldwide. Figures like Christopher Columbus, Ferdinand Magellan, and Miguel de Cervantes burst onto the world stage. \\n\\n7. The Enlightenment and the Spanish Enlightenment: 17th - 18th centuries. This period involved a series of political and cultural reforms, known as the Spanish Enlightenment, inspired by the ideas of the French and British Enlightenment. However, the ideals of the Spanish Enlightenment were curtailed by the turmoil of the Napoleonic Wars. \\n\\n8. The Spanish Revolution: 1868 - 1871\"), HumanMessage(content='Gives me the historical chronology of Germany. I want as much dates and events as possibles.'), AIMessage(content=\"  Here is an extensive list of important dates and events in German history. \\n\\nGerman History: c.800 BC to present times. \\n\\n1. The Ancient Germanic Tribes and the Holy Roman Empire: c.800 BC - 800 AD. This era encompasses the livelihoods of various Germanic tribes, including the Saxons, Franks, and Bavarians, and the rise of the Holy Roman Empire, which held dominion over much of Western Europe. \\n\\n2. The High Middle Ages: 800 - 1200. During this time, the Kingdom of Germany developed, ultimately becoming a significant political entity in Europe. The Hohenstaufen kings dominated the region, ruling over both Germany and the Holy Roman Empire. \\n\\n3. The Late Middle Ages and the Rise of the Habsburg Dynasty: 1200 - 1500. This period witnessed the decline of the Hohenstaufen rulers and the rise of the Habsburg dynasty, which would become a major political and cultural force in Europe. The Habsburgs ruled over a vast empire encompassing various lands, including Germany, Austria, and the Low Countries. \\n\\n4. The Protestant Reformation and the Thirty Years' War: 1500 - 1648. Germany played a pivotal role in the Protestant Reformation, with Martin Luther initiating the movement. This era culminated in the Thirty Years' War, which devastated Germany and resulted in the consolidation of power by the Habsburgs and their Austrian rule. \\n\\n5. The Age of Enlightenment and the Napoleonic Wars: 1650 - 1815. This period marked the heyday of the Enlightenment in Germany, with philosophers like Immanuel Kant and Johann Gottfried von Herder pioneering new ideas and philosophies. The Napoleonic Wars greatly impacted Germany, ultimately leading to the dissolution of the Holy Roman Empire and the rise of the German Confederation. \\n\\n6. The German Empire and World War I: 1870 - 1918. The Franco-Prussian War resulted in German unification and the formation of the German Empire, with the Prussian King as emperor. World War I was a cataclysmic event that profoundly impacted Germany, leading to its defeat, the end of the imperial regime, and the rise of the Weimar Republic. \\n\\n7. The Weimar Republic and Hitler's Rise to Power: 1918 - 1933. The Weimar Republic faced many challenges and crises, which ultimately led to the rise of Adolf Hitler and the Nazi Party. \\n\\n8. Nazi Rule and World War II: 1933 - 1945. Under Nazi rule, Germany became a totalitarian state, instigating ruthless policies that led to the Holocaust and the mass extermination of Jews, Roman\")]\n"
     ]
    }
   ],
   "source": [
    "conversation.invoke(\"Gives me the historical chronology of France. I want as much dates and events as possible.\")\n",
    "\n",
    "conversation.invoke(\"Gives me the historical chronology of France. I want as much dates and events as possibles.\")\n",
    "\n",
    "conversation.invoke(\"Gives me the historical chronology of Spain. I want as much dates and events as possibles.\")\n",
    "\n",
    "conversation.invoke(\"Gives me the historical chronology of Germany. I want as much dates and events as possibles.\")\n",
    "\n",
    "# We should be able to get the whole conversation inside the memory\n",
    "print(conversation.memory.buffer)"
   ]
  },
  {
   "cell_type": "markdown",
   "id": "f94d108d-d2a8-47ab-a552-5eb970e202ca",
   "metadata": {},
   "source": [
    "#### From your observations - Gives the pros and cons of this memory \n",
    "\n",
    "##### Pros\n",
    "\n",
    "- Ce type de mémoire permet un Équilibre entre mémoire tampon et résumé en combinant les avantages du buffering et du résumage.\n",
    "- Flexibilité : Potentiellement ce type de mémoire est plus flexible dans la gestion des types de contexte de conversation.\n",
    "\n",
    "##### Cons\n",
    "\n",
    "- Complexité d'implémentation\n",
    "\n"
   ]
  },
  {
   "cell_type": "code",
   "execution_count": null,
   "id": "05c7e5cf-7104-42e4-9198-3cab0ebc8c74",
   "metadata": {},
   "outputs": [],
   "source": []
  }
 ],
 "metadata": {
  "kernelspec": {
   "display_name": "Python 3 (ipykernel)",
   "language": "python",
   "name": "python3"
  },
  "language_info": {
   "codemirror_mode": {
    "name": "ipython",
    "version": 3
   },
   "file_extension": ".py",
   "mimetype": "text/x-python",
   "name": "python",
   "nbconvert_exporter": "python",
   "pygments_lexer": "ipython3",
   "version": "3.10.3"
  }
 },
 "nbformat": 4,
 "nbformat_minor": 5
}
